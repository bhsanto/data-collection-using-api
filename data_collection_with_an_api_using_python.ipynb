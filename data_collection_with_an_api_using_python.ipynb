{
  "nbformat": 4,
  "nbformat_minor": 0,
  "metadata": {
    "colab": {
      "provenance": [],
      "authorship_tag": "ABX9TyNS5R+SisTdbBrcxXP2xK9v"
    },
    "kernelspec": {
      "name": "python3",
      "display_name": "Python 3"
    },
    "language_info": {
      "name": "python"
    }
  },
  "cells": [
    {
      "cell_type": "markdown",
      "source": [
        "I am going to use Spotify API to collect real time music data\n",
        "and create a dataset of music with their features and popularity.\n"
      ],
      "metadata": {
        "id": "41sd0JJVTfMh"
      }
    },
    {
      "cell_type": "code",
      "execution_count": null,
      "metadata": {
        "id": "Fs9zP8UhLFV5"
      },
      "outputs": [],
      "source": [
        "import requests\n",
        "import base64"
      ]
    },
    {
      "cell_type": "code",
      "source": [
        "from google.colab import userdata\n",
        "CLIENT_ID = userdata.get('CLIENT_ID')"
      ],
      "metadata": {
        "collapsed": true,
        "id": "pzOblu3rr-yC"
      },
      "execution_count": null,
      "outputs": []
    },
    {
      "cell_type": "code",
      "source": [
        "from google.colab import userdata\n",
        "CLIENT_SECRET = userdata.get('CLIENT_SECRET')"
      ],
      "metadata": {
        "collapsed": true,
        "id": "73iuac2Mx-um"
      },
      "execution_count": null,
      "outputs": []
    },
    {
      "cell_type": "code",
      "source": [
        "#Base64 encodes client id and client secret\n",
        "client_credentials = f\"{CLIENT_ID}:{CLIENT_SECRET}\"\n",
        "client_credentials_base64 = base64.b64encode(client_credentials.encode())"
      ],
      "metadata": {
        "id": "qQCjDR3ayYnN"
      },
      "execution_count": null,
      "outputs": []
    },
    {
      "cell_type": "code",
      "source": [
        "#Request the access token\n",
        "token_url = \"https://accounts.spotify.com/api/token\"\n",
        "headers = {\n",
        "    \"Authorization\" : f\"Basic {client_credentials_base64.decode()}\"\n",
        "}\n",
        "data = {\n",
        "    \"grant_type\" : \"client_credentials\"\n",
        "}\n",
        "response = requests.post(token_url, data=data, headers=headers)\n",
        "if response.status_code == 200:\n",
        "  access_token = response.json()[\"access_token\"]\n",
        "  print(\"Access Token Obtained Successfully!\")\n",
        "else:\n",
        "  print(\"Error obtaining access token.\")\n",
        "  exit()\n"
      ],
      "metadata": {
        "id": "Dzg61dZi0Y0N"
      },
      "execution_count": null,
      "outputs": []
    }
  ]
}